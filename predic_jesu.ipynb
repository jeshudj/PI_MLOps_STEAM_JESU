{
 "cells": [
  {
   "cell_type": "markdown",
   "metadata": {},
   "source": [
    "Modelo de prediccion para recibir el precio y RMSE"
   ]
  },
  {
   "cell_type": "code",
   "execution_count": 92,
   "metadata": {},
   "outputs": [],
   "source": [
    "# importar librerias\n",
    "import ast\n",
    "import pandas as pd\n",
    "from sklearn.model_selection import train_test_split\n",
    "from sklearn.linear_model import LinearRegression\n",
    "from sklearn.metrics import mean_squared_error, r2_score\n",
    "from sklearn.metrics import mean_squared_error\n",
    "import numpy as np\n",
    "import pickle"
   ]
  },
  {
   "cell_type": "code",
   "execution_count": 93,
   "metadata": {},
   "outputs": [],
   "source": [
    "# Carga del dataframe\n",
    "data = pd.read_csv(\"clean_games.csv\", sep=';', encoding='utf-8')"
   ]
  },
  {
   "cell_type": "code",
   "execution_count": 94,
   "metadata": {},
   "outputs": [
    {
     "name": "stdout",
     "output_type": "stream",
     "text": [
      "<class 'pandas.core.frame.DataFrame'>\n",
      "RangeIndex: 32135 entries, 0 to 32134\n",
      "Data columns (total 13 columns):\n",
      " #   Column        Non-Null Count  Dtype  \n",
      "---  ------        --------------  -----  \n",
      " 0   id            32133 non-null  float64\n",
      " 1   publisher     32116 non-null  object \n",
      " 2   genres        28852 non-null  object \n",
      " 3   app_name      32135 non-null  object \n",
      " 4   tags          31972 non-null  object \n",
      " 5   specs         31465 non-null  object \n",
      " 6   early_access  32135 non-null  bool   \n",
      " 7   developer     32135 non-null  object \n",
      " 8   sentiment     32135 non-null  object \n",
      " 9   metascore     32065 non-null  object \n",
      " 10  release_year  32135 non-null  float64\n",
      " 11  free to play  32135 non-null  object \n",
      " 12  real_price    32135 non-null  float64\n",
      "dtypes: bool(1), float64(3), object(9)\n",
      "memory usage: 3.0+ MB\n"
     ]
    }
   ],
   "source": [
    "# Info del dataframe\n",
    "data.info()"
   ]
  },
  {
   "cell_type": "code",
   "execution_count": 95,
   "metadata": {},
   "outputs": [],
   "source": [
    "# Seleccionar las columnas deseadas\n",
    "columnas_deseadas = [\"release_year\", \"genres\", \"metascore\", \"real_price\", \"early_access\"]\n",
    "\n",
    "# Crear un nuevo DataFrame con las columnas deseadas\n",
    "data_predic = data[columnas_deseadas].copy()\n"
   ]
  },
  {
   "cell_type": "code",
   "execution_count": 96,
   "metadata": {},
   "outputs": [
    {
     "data": {
      "text/html": [
       "<div>\n",
       "<style scoped>\n",
       "    .dataframe tbody tr th:only-of-type {\n",
       "        vertical-align: middle;\n",
       "    }\n",
       "\n",
       "    .dataframe tbody tr th {\n",
       "        vertical-align: top;\n",
       "    }\n",
       "\n",
       "    .dataframe thead th {\n",
       "        text-align: right;\n",
       "    }\n",
       "</style>\n",
       "<table border=\"1\" class=\"dataframe\">\n",
       "  <thead>\n",
       "    <tr style=\"text-align: right;\">\n",
       "      <th></th>\n",
       "      <th>release_year</th>\n",
       "      <th>genres</th>\n",
       "      <th>metascore</th>\n",
       "      <th>real_price</th>\n",
       "      <th>early_access</th>\n",
       "    </tr>\n",
       "  </thead>\n",
       "  <tbody>\n",
       "    <tr>\n",
       "      <th>32130</th>\n",
       "      <td>2018.0</td>\n",
       "      <td>Casual, Indie, Simulation, Strategy</td>\n",
       "      <td>NO</td>\n",
       "      <td>1.99</td>\n",
       "      <td>False</td>\n",
       "    </tr>\n",
       "    <tr>\n",
       "      <th>32131</th>\n",
       "      <td>2018.0</td>\n",
       "      <td>Casual, Indie, Strategy</td>\n",
       "      <td>NO</td>\n",
       "      <td>4.99</td>\n",
       "      <td>False</td>\n",
       "    </tr>\n",
       "    <tr>\n",
       "      <th>32132</th>\n",
       "      <td>2018.0</td>\n",
       "      <td>Indie, Racing, Simulation</td>\n",
       "      <td>NO</td>\n",
       "      <td>1.99</td>\n",
       "      <td>False</td>\n",
       "    </tr>\n",
       "    <tr>\n",
       "      <th>32133</th>\n",
       "      <td>2017.0</td>\n",
       "      <td>Casual, Indie</td>\n",
       "      <td>NO</td>\n",
       "      <td>4.99</td>\n",
       "      <td>False</td>\n",
       "    </tr>\n",
       "    <tr>\n",
       "      <th>32134</th>\n",
       "      <td>0.0</td>\n",
       "      <td>NaN</td>\n",
       "      <td>NO</td>\n",
       "      <td>4.99</td>\n",
       "      <td>True</td>\n",
       "    </tr>\n",
       "  </tbody>\n",
       "</table>\n",
       "</div>"
      ],
      "text/plain": [
       "       release_year                               genres metascore   \n",
       "32130        2018.0  Casual, Indie, Simulation, Strategy        NO  \\\n",
       "32131        2018.0              Casual, Indie, Strategy        NO   \n",
       "32132        2018.0            Indie, Racing, Simulation        NO   \n",
       "32133        2017.0                        Casual, Indie        NO   \n",
       "32134           0.0                                  NaN        NO   \n",
       "\n",
       "       real_price  early_access  \n",
       "32130        1.99         False  \n",
       "32131        4.99         False  \n",
       "32132        1.99         False  \n",
       "32133        4.99         False  \n",
       "32134        4.99          True  "
      ]
     },
     "execution_count": 96,
     "metadata": {},
     "output_type": "execute_result"
    }
   ],
   "source": [
    "# Vereificamos\n",
    "data_predic.tail()"
   ]
  },
  {
   "cell_type": "code",
   "execution_count": 97,
   "metadata": {},
   "outputs": [],
   "source": [
    "# Reemplazar los valores \"NO\" por NaN en la columna \"metascore\"\n",
    "data_predic[\"metascore\"] = data_predic[\"metascore\"].replace(\"NO\", pd.NA)\n",
    "\n",
    "# Convertir la columna \"metascore\" a tipo numérico\n",
    "data_predic[\"metascore\"] = pd.to_numeric(data_predic[\"metascore\"], errors='coerce')\n",
    "\n",
    "# Eliminar filas con valores NaN en la columna \"metascore\" del DataFrame \"df_reduced\"\n",
    "data_predic.dropna(subset=[\"metascore\"], inplace=True)"
   ]
  },
  {
   "cell_type": "code",
   "execution_count": 98,
   "metadata": {},
   "outputs": [
    {
     "name": "stdout",
     "output_type": "stream",
     "text": [
      "<class 'pandas.core.frame.DataFrame'>\n",
      "Index: 2607 entries, 28 to 32117\n",
      "Data columns (total 5 columns):\n",
      " #   Column        Non-Null Count  Dtype  \n",
      "---  ------        --------------  -----  \n",
      " 0   release_year  2607 non-null   float64\n",
      " 1   genres        2545 non-null   object \n",
      " 2   metascore     2607 non-null   float64\n",
      " 3   real_price    2607 non-null   float64\n",
      " 4   early_access  2607 non-null   bool   \n",
      "dtypes: bool(1), float64(3), object(1)\n",
      "memory usage: 104.4+ KB\n"
     ]
    }
   ],
   "source": [
    "data_predic.info()"
   ]
  },
  {
   "cell_type": "code",
   "execution_count": 99,
   "metadata": {},
   "outputs": [],
   "source": [
    "# Crear columnas separadas para cada género\n",
    "generos_dummies = data_predic[\"genres\"].str.get_dummies(sep=\",\")\n",
    "\n",
    "# Concatenar las columnas generadas con el DataFrame original\n",
    "data_predic = pd.concat([data_predic, generos_dummies], axis=1)\n",
    "\n",
    "# Eliminar las columnas originales de \"release_date\" y \"genres\"\n",
    "data_predic.drop([\"genres\"], axis=1, inplace=True)\n"
   ]
  },
  {
   "cell_type": "code",
   "execution_count": 100,
   "metadata": {},
   "outputs": [
    {
     "name": "stdout",
     "output_type": "stream",
     "text": [
      "<class 'pandas.core.frame.DataFrame'>\n",
      "Index: 2607 entries, 28 to 32117\n",
      "Data columns (total 28 columns):\n",
      " #   Column                  Non-Null Count  Dtype  \n",
      "---  ------                  --------------  -----  \n",
      " 0   release_year            2607 non-null   float64\n",
      " 1   metascore               2607 non-null   float64\n",
      " 2   real_price              2607 non-null   float64\n",
      " 3   early_access            2607 non-null   bool   \n",
      " 4    Action                 2607 non-null   int64  \n",
      " 5    Adventure              2607 non-null   int64  \n",
      " 6    Casual                 2607 non-null   int64  \n",
      " 7    Early Access           2607 non-null   int64  \n",
      " 8    Free to Play           2607 non-null   int64  \n",
      " 9    Indie                  2607 non-null   int64  \n",
      " 10   Massively Multiplayer  2607 non-null   int64  \n",
      " 11   RPG                    2607 non-null   int64  \n",
      " 12   Racing                 2607 non-null   int64  \n",
      " 13   Simulation             2607 non-null   int64  \n",
      " 14   Sports                 2607 non-null   int64  \n",
      " 15   Strategy               2607 non-null   int64  \n",
      " 16  Action                  2607 non-null   int64  \n",
      " 17  Adventure               2607 non-null   int64  \n",
      " 18  Casual                  2607 non-null   int64  \n",
      " 19  Free to Play            2607 non-null   int64  \n",
      " 20  Indie                   2607 non-null   int64  \n",
      " 21  Massively Multiplayer   2607 non-null   int64  \n",
      " 22  RPG                     2607 non-null   int64  \n",
      " 23  Racing                  2607 non-null   int64  \n",
      " 24  Simulation              2607 non-null   int64  \n",
      " 25  Sports                  2607 non-null   int64  \n",
      " 26  Strategy                2607 non-null   int64  \n",
      " 27  Video Production        2607 non-null   int64  \n",
      "dtypes: bool(1), float64(3), int64(24)\n",
      "memory usage: 572.8 KB\n"
     ]
    }
   ],
   "source": [
    "data_predic.info()"
   ]
  },
  {
   "cell_type": "code",
   "execution_count": 102,
   "metadata": {},
   "outputs": [],
   "source": [
    "# Supongamos que tienes tus datos en un DataFrame llamado \"df\"\n",
    "# Eliminar la columna \"price\" para utilizarla como variable objetivo para la predicción\n",
    "X = data_predic.drop(columns=['real_price'])\n",
    "y = data_predic['real_price']\n",
    "\n",
    "# Dividir los datos en conjuntos de entrenamiento y prueba\n",
    "X_train, X_test, y_train, y_test = train_test_split(X, y, test_size=0.2, random_state=42)\n",
    "\n",
    "# Crear el modelo de regresión lineal múltiple\n",
    "model = LinearRegression()\n",
    "\n",
    "\n",
    "# Entrenar el modelo con los datos de entrenamiento\n",
    "model.fit(X_train, y_train)\n",
    "\n",
    "# Realizar predicciones en el conjunto de prueba\n",
    "y_pred = model.predict(X_test)\n",
    "\n"
   ]
  },
  {
   "cell_type": "code",
   "execution_count": 103,
   "metadata": {},
   "outputs": [
    {
     "name": "stdout",
     "output_type": "stream",
     "text": [
      "Root Mean Squared Error: 10.00525350733729\n"
     ]
    }
   ],
   "source": [
    "# Calcular el MSE\n",
    "mse = mean_squared_error(y_test, y_pred)\n",
    "\n",
    "# Calcular el RMSE\n",
    "rmse = np.sqrt(mse)\n",
    "\n",
    "# Mostrar el RMSE\n",
    "print(\"Root Mean Squared Error:\", rmse)"
   ]
  },
  {
   "cell_type": "code",
   "execution_count": 104,
   "metadata": {},
   "outputs": [],
   "source": [
    "# Guardar el modelo en un archivo pickle\n",
    "with open('predic_jesu.pkl', 'wb') as file:\n",
    "    pickle.dump(model, file)"
   ]
  },
  {
   "cell_type": "code",
   "execution_count": 105,
   "metadata": {},
   "outputs": [
    {
     "name": "stdout",
     "output_type": "stream",
     "text": [
      "       Precio Real  Predicción  Diferencia\n",
      "28261        19.99   18.070071    1.919929\n",
      "119           4.99   17.502365  -12.512365\n",
      "1885         14.99   14.168782    0.821218\n",
      "845          19.99   16.951769    3.038231\n",
      "29210         9.99   17.536007   -7.546007\n",
      "21308        14.99   17.778254   -2.788254\n",
      "3475         12.99   13.152840   -0.162840\n",
      "27988         9.99   29.953774  -19.963774\n",
      "31306         9.99    9.703079    0.286921\n",
      "171           9.99   12.973408   -2.983408\n"
     ]
    }
   ],
   "source": [
    "# Calcular las diferencias (residuos)\n",
    "diferencias = y_test - y_pred\n",
    "\n",
    "# Crear un DataFrame para visualizar las diferencias junto con las predicciones y los valores reales\n",
    "resultados = pd.DataFrame({'Precio Real': y_test, 'Predicción': y_pred, 'Diferencia': diferencias})\n",
    "\n",
    "# Mostrar los ejemplos de 20 a 30\n",
    "print(resultados.iloc[10:20])"
   ]
  }
 ],
 "metadata": {
  "kernelspec": {
   "display_name": "base",
   "language": "python",
   "name": "python3"
  },
  "language_info": {
   "codemirror_mode": {
    "name": "ipython",
    "version": 3
   },
   "file_extension": ".py",
   "mimetype": "text/x-python",
   "name": "python",
   "nbconvert_exporter": "python",
   "pygments_lexer": "ipython3",
   "version": "3.11.2"
  },
  "orig_nbformat": 4
 },
 "nbformat": 4,
 "nbformat_minor": 2
}
